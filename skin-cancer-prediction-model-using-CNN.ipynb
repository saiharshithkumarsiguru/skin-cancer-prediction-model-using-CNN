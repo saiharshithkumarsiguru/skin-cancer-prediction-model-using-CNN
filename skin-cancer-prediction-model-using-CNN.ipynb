{
 "cells": [
  {
   "cell_type": "code",
   "execution_count": 1,
   "metadata": {},
   "outputs": [
    {
     "name": "stderr",
     "output_type": "stream",
     "text": [
      "C:\\Users\\venkat\\Anaconda3\\lib\\site-packages\\tensorflow\\python\\framework\\dtypes.py:516: FutureWarning: Passing (type, 1) or '1type' as a synonym of type is deprecated; in a future version of numpy, it will be understood as (type, (1,)) / '(1,)type'.\n",
      "  _np_qint8 = np.dtype([(\"qint8\", np.int8, 1)])\n",
      "C:\\Users\\venkat\\Anaconda3\\lib\\site-packages\\tensorflow\\python\\framework\\dtypes.py:517: FutureWarning: Passing (type, 1) or '1type' as a synonym of type is deprecated; in a future version of numpy, it will be understood as (type, (1,)) / '(1,)type'.\n",
      "  _np_quint8 = np.dtype([(\"quint8\", np.uint8, 1)])\n",
      "C:\\Users\\venkat\\Anaconda3\\lib\\site-packages\\tensorflow\\python\\framework\\dtypes.py:518: FutureWarning: Passing (type, 1) or '1type' as a synonym of type is deprecated; in a future version of numpy, it will be understood as (type, (1,)) / '(1,)type'.\n",
      "  _np_qint16 = np.dtype([(\"qint16\", np.int16, 1)])\n",
      "C:\\Users\\venkat\\Anaconda3\\lib\\site-packages\\tensorflow\\python\\framework\\dtypes.py:519: FutureWarning: Passing (type, 1) or '1type' as a synonym of type is deprecated; in a future version of numpy, it will be understood as (type, (1,)) / '(1,)type'.\n",
      "  _np_quint16 = np.dtype([(\"quint16\", np.uint16, 1)])\n",
      "C:\\Users\\venkat\\Anaconda3\\lib\\site-packages\\tensorflow\\python\\framework\\dtypes.py:520: FutureWarning: Passing (type, 1) or '1type' as a synonym of type is deprecated; in a future version of numpy, it will be understood as (type, (1,)) / '(1,)type'.\n",
      "  _np_qint32 = np.dtype([(\"qint32\", np.int32, 1)])\n",
      "C:\\Users\\venkat\\Anaconda3\\lib\\site-packages\\tensorflow\\python\\framework\\dtypes.py:525: FutureWarning: Passing (type, 1) or '1type' as a synonym of type is deprecated; in a future version of numpy, it will be understood as (type, (1,)) / '(1,)type'.\n",
      "  np_resource = np.dtype([(\"resource\", np.ubyte, 1)])\n",
      "C:\\Users\\venkat\\Anaconda3\\lib\\site-packages\\tensorboard\\compat\\tensorflow_stub\\dtypes.py:541: FutureWarning: Passing (type, 1) or '1type' as a synonym of type is deprecated; in a future version of numpy, it will be understood as (type, (1,)) / '(1,)type'.\n",
      "  _np_qint8 = np.dtype([(\"qint8\", np.int8, 1)])\n",
      "C:\\Users\\venkat\\Anaconda3\\lib\\site-packages\\tensorboard\\compat\\tensorflow_stub\\dtypes.py:542: FutureWarning: Passing (type, 1) or '1type' as a synonym of type is deprecated; in a future version of numpy, it will be understood as (type, (1,)) / '(1,)type'.\n",
      "  _np_quint8 = np.dtype([(\"quint8\", np.uint8, 1)])\n",
      "C:\\Users\\venkat\\Anaconda3\\lib\\site-packages\\tensorboard\\compat\\tensorflow_stub\\dtypes.py:543: FutureWarning: Passing (type, 1) or '1type' as a synonym of type is deprecated; in a future version of numpy, it will be understood as (type, (1,)) / '(1,)type'.\n",
      "  _np_qint16 = np.dtype([(\"qint16\", np.int16, 1)])\n",
      "C:\\Users\\venkat\\Anaconda3\\lib\\site-packages\\tensorboard\\compat\\tensorflow_stub\\dtypes.py:544: FutureWarning: Passing (type, 1) or '1type' as a synonym of type is deprecated; in a future version of numpy, it will be understood as (type, (1,)) / '(1,)type'.\n",
      "  _np_quint16 = np.dtype([(\"quint16\", np.uint16, 1)])\n",
      "C:\\Users\\venkat\\Anaconda3\\lib\\site-packages\\tensorboard\\compat\\tensorflow_stub\\dtypes.py:545: FutureWarning: Passing (type, 1) or '1type' as a synonym of type is deprecated; in a future version of numpy, it will be understood as (type, (1,)) / '(1,)type'.\n",
      "  _np_qint32 = np.dtype([(\"qint32\", np.int32, 1)])\n",
      "C:\\Users\\venkat\\Anaconda3\\lib\\site-packages\\tensorboard\\compat\\tensorflow_stub\\dtypes.py:550: FutureWarning: Passing (type, 1) or '1type' as a synonym of type is deprecated; in a future version of numpy, it will be understood as (type, (1,)) / '(1,)type'.\n",
      "  np_resource = np.dtype([(\"resource\", np.ubyte, 1)])\n",
      "Using TensorFlow backend.\n"
     ]
    }
   ],
   "source": [
    "#importing libraries\n",
    "import tensorflow\n",
    "import keras\n",
    "from tensorflow.keras.models import Sequential,load_model\n",
    "from tensorflow.keras.layers import Convolution2D\n",
    "from tensorflow.keras.layers import MaxPooling2D\n",
    "from tensorflow.keras.layers import Flatten\n",
    "from tensorflow.keras.layers import Dense,Dropout"
   ]
  },
  {
   "cell_type": "code",
   "execution_count": 2,
   "metadata": {},
   "outputs": [
    {
     "name": "stdout",
     "output_type": "stream",
     "text": [
      "WARNING:tensorflow:From C:\\Users\\venkat\\Anaconda3\\lib\\site-packages\\tensorflow\\python\\ops\\init_ops.py:1251: calling VarianceScaling.__init__ (from tensorflow.python.ops.init_ops) with dtype is deprecated and will be removed in a future version.\n",
      "Instructions for updating:\n",
      "Call initializer instance with the dtype argument instead of passing it to the constructor\n",
      "WARNING:tensorflow:From C:\\Users\\venkat\\Anaconda3\\lib\\site-packages\\tensorflow\\python\\ops\\nn_impl.py:180: add_dispatch_support.<locals>.wrapper (from tensorflow.python.ops.array_ops) is deprecated and will be removed in a future version.\n",
      "Instructions for updating:\n",
      "Use tf.where in 2.0, which has the same broadcast rule as np.where\n"
     ]
    }
   ],
   "source": [
    "# Initialising the CNN\n",
    "model = Sequential()\n",
    "# Step 1 - Convolution\n",
    "model.add(Convolution2D(64, 3, 3, input_shape = (224,224,3), activation = 'relu'))\n",
    "# Step 2 - Pooling\n",
    "model.add(MaxPooling2D(pool_size = (2, 2)))\n",
    "# Adding a second convolutional layer\n",
    "model.add(Convolution2D(64, 3, 3, activation = 'relu'))\n",
    "model.add(MaxPooling2D(pool_size = (2, 2)))\n",
    "model.add(Dropout(0.5))\n",
    "# Step 3 - Flattening\n",
    "model.add(Flatten())\n",
    "# Step 4 - Full connection\n",
    "model.add(Dense(128, activation = 'relu'))\n",
    "model.add(Dropout(0.5))\n",
    "model.add(Dense(1, activation = 'sigmoid'))\n",
    "# Compiling the CNN\n",
    "model.compile(optimizer = 'adam', loss = 'binary_crossentropy', metrics = ['accuracy'])"
   ]
  },
  {
   "cell_type": "code",
   "execution_count": 3,
   "metadata": {},
   "outputs": [
    {
     "name": "stdout",
     "output_type": "stream",
     "text": [
      "Found 2637 images belonging to 2 classes.\n",
      "Found 660 images belonging to 2 classes.\n",
      "Epoch 1/10\n",
      "2637/2637 [==============================] - 179s 68ms/step - loss: 0.6425 - acc: 0.6102 - val_loss: 0.6530 - val_acc: 0.5833\n",
      "Epoch 2/10\n",
      "2637/2637 [==============================] - 159s 60ms/step - loss: 0.5101 - acc: 0.7455 - val_loss: 0.4390 - val_acc: 0.7667\n",
      "Epoch 3/10\n",
      "2637/2637 [==============================] - 129s 49ms/step - loss: 0.4938 - acc: 0.7569 - val_loss: 0.6748 - val_acc: 0.5500\n",
      "Epoch 4/10\n",
      "2637/2637 [==============================] - 464s 176ms/step - loss: 0.4944 - acc: 0.7524 - val_loss: 0.4299 - val_acc: 0.7636\n",
      "Epoch 5/10\n",
      "2637/2637 [==============================] - 117s 44ms/step - loss: 0.4639 - acc: 0.7770 - val_loss: 0.4222 - val_acc: 0.7697\n",
      "Epoch 6/10\n",
      "2637/2637 [==============================] - 75s 28ms/step - loss: 0.4682 - acc: 0.7672 - val_loss: 0.4313 - val_acc: 0.7803\n",
      "Epoch 7/10\n",
      "2637/2637 [==============================] - 77s 29ms/step - loss: 0.4672 - acc: 0.7710 - val_loss: 0.4665 - val_acc: 0.7818\n",
      "Epoch 8/10\n",
      "2637/2637 [==============================] - 83s 31ms/step - loss: 0.4305 - acc: 0.7929 - val_loss: 0.3970 - val_acc: 0.8000\n",
      "Epoch 9/10\n",
      "2637/2637 [==============================] - 74s 28ms/step - loss: 0.4353 - acc: 0.7869 - val_loss: 0.4140 - val_acc: 0.7924\n",
      "Epoch 10/10\n",
      "2637/2637 [==============================] - 83s 32ms/step - loss: 0.4521 - acc: 0.7869 - val_loss: 0.5041 - val_acc: 0.7091\n"
     ]
    },
    {
     "data": {
      "text/plain": [
       "<tensorflow.python.keras.callbacks.History at 0x6881198>"
      ]
     },
     "execution_count": 3,
     "metadata": {},
     "output_type": "execute_result"
    }
   ],
   "source": [
    "#Importing the dataset and fitting the model\n",
    "from keras.preprocessing.image import ImageDataGenerator\n",
    "train_datagen = ImageDataGenerator(rescale = 1./255,shear_range = 0.2,zoom_range = 0.2,horizontal_flip = True)\n",
    "\n",
    "test_datagen = ImageDataGenerator(rescale = 1./255)\n",
    "\n",
    "import os\n",
    "os.getcwd()\n",
    "\n",
    "os.chdir('A:\\\\data\\\\')\n",
    "\n",
    "training_set = train_datagen.flow_from_directory('train',target_size = (224,224),batch_size = 1,class_mode = 'binary')#class_mode=categorical to work on multiple\n",
    "\n",
    "test_set = test_datagen.flow_from_directory('test',target_size = (224,224),batch_size = 1,class_mode = 'binary')\n",
    "\n",
    "#fitting the model\n",
    "\n",
    "model.fit_generator(training_set,steps_per_epoch = 2637,epochs = 10,validation_data = test_set,validation_steps = 660)# nb_epoch = 25,\n",
    "\n"
   ]
  },
  {
   "cell_type": "code",
   "execution_count": 4,
   "metadata": {},
   "outputs": [
    {
     "name": "stdout",
     "output_type": "stream",
     "text": [
      "This is a Malignant Image\n"
     ]
    }
   ],
   "source": [
    "#testing the model with a malignant image \n",
    "import numpy as np\n",
    "from keras.preprocessing import image\n",
    "test_image = image.load_img('A:\\\\test\\\\malignant\\\\4.jpg', target_size = (224,224))\n",
    "test_image\n",
    "\n",
    "test_image = image.img_to_array(test_image)\n",
    "\n",
    "test_image # shld gv us (64,64,3)\n",
    "\n",
    "test_image = np.expand_dims(test_image, axis = 0)\n",
    "\n",
    "test_image # now it shld show (1,64,64,3)\n",
    "\n",
    "result = model.predict(test_image)\n",
    "# v r trying to predict\n",
    "result \n",
    "\n",
    "if result[0][0]== 0:\n",
    "    result = 'This is a Benign Image'\n",
    "else:\n",
    "    result = 'This is a Malignant Image'\n",
    "    \n",
    "print(result)    \n"
   ]
  },
  {
   "cell_type": "code",
   "execution_count": 5,
   "metadata": {},
   "outputs": [
    {
     "name": "stdout",
     "output_type": "stream",
     "text": [
      "This is a Benign Image\n"
     ]
    }
   ],
   "source": [
    "#testing the model with a benign image \n",
    "import numpy as np\n",
    "from keras.preprocessing import image\n",
    "test_image = image.load_img('A:\\\\data\\\\test\\\\benign\\\\44.jpg', target_size = (224,224))\n",
    "\n",
    "test_image\n",
    "\n",
    "test_image = image.img_to_array(test_image)\n",
    "\n",
    "test_image # shld gv us (64,64,3)\n",
    "\n",
    "test_image = np.expand_dims(test_image, axis = 0)\n",
    "\n",
    "test_image # now it shld show (1,64,64,3)\n",
    "\n",
    "result = model.predict(test_image)\n",
    "# v r trying to predict\n",
    "result \n",
    "\n",
    "\n",
    "if result[0][0]== 0:\n",
    "    result = 'This is a Benign Image'\n",
    "else:\n",
    "    result = 'This is a Malignant Image'\n",
    "    \n",
    "print(result)    \n",
    "\n"
   ]
  }
 ],
 "metadata": {
  "kernelspec": {
   "display_name": "Python 3",
   "language": "python",
   "name": "python3"
  },
  "language_info": {
   "codemirror_mode": {
    "name": "ipython",
    "version": 3
   },
   "file_extension": ".py",
   "mimetype": "text/x-python",
   "name": "python",
   "nbconvert_exporter": "python",
   "pygments_lexer": "ipython3",
   "version": "3.6.5"
  }
 },
 "nbformat": 4,
 "nbformat_minor": 2
}
